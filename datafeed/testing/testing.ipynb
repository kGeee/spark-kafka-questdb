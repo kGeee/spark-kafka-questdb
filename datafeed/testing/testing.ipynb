{
 "cells": [
  {
   "cell_type": "code",
   "execution_count": 2,
   "metadata": {},
   "outputs": [
    {
     "name": "stdout",
     "output_type": "stream",
     "text": [
      "[{'ticker': 3, 'side': 3, 'exch': 3, 'amount': 3, 'price': 3, 'ts': 3}, {'ticker': 3, 'side': 3, 'exch': 3, 'amount': 3, 'price': 3, 'ts': 3}, {'ticker': 3, 'side': 3, 'exch': 3, 'amount': 3, 'price': 3, 'ts': 3}, {'ticker': 3, 'side': 3, 'exch': 3, 'amount': 3, 'price': 3, 'ts': 3}, {'ticker': 3, 'side': 3, 'exch': 3, 'amount': 3, 'price': 3, 'ts': 3}, {'ticker': 3, 'side': 3, 'exch': 3, 'amount': 3, 'price': 3, 'ts': 3}]\n"
     ]
    }
   ],
   "source": [
    "data = [[3,3,3,3,3,3]]\n",
    "table_data = [\n",
    "            {\n",
    "                \"ticker\": row[0],\n",
    "                \"side\": row[1],\n",
    "                \"exch\": row[2],\n",
    "                \"amount\": row[3],\n",
    "                \"price\": row[4],\n",
    "                \"ts\": row[5],\n",
    "            }\n",
    "            for row in data\n",
    "        ]\n",
    "print(table_data)\n"
   ]
  },
  {
   "cell_type": "code",
   "execution_count": 6,
   "metadata": {},
   "outputs": [
    {
     "data": {
      "text/plain": [
       "[{'ticker': 3, 'side': 3, 'exch': 3, 'amount': 3, 'price': 3, 'ts': 3}]"
      ]
     },
     "execution_count": 6,
     "metadata": {},
     "output_type": "execute_result"
    }
   ],
   "source": [
    "table_schema = \\\n",
    "{\n",
    "    \"ticker\": str,\n",
    "    \"side\": str,\n",
    "    \"exch\": str,\n",
    "    \"amount\": float,\n",
    "    \"price\": float,\n",
    "    \"ts\": datetime,\n",
    "}\n",
    "def mapColumnsData(table_schema, data):\n",
    "    columns = table_schema.keys()\n",
    "    return [{columns[i]:data[j][i] for i in range(len(columns))} for j in range(len(data))]\n"
   ]
  },
  {
   "cell_type": "code",
   "execution_count": null,
   "metadata": {},
   "outputs": [],
   "source": []
  }
 ],
 "metadata": {
  "kernelspec": {
   "display_name": "Python 3",
   "language": "python",
   "name": "python3"
  },
  "language_info": {
   "codemirror_mode": {
    "name": "ipython",
    "version": 3
   },
   "file_extension": ".py",
   "mimetype": "text/x-python",
   "name": "python",
   "nbconvert_exporter": "python",
   "pygments_lexer": "ipython3",
   "version": "3.10.4"
  },
  "orig_nbformat": 4
 },
 "nbformat": 4,
 "nbformat_minor": 2
}
